{
 "cells": [
  {
   "cell_type": "code",
   "execution_count": 1,
   "metadata": {},
   "outputs": [],
   "source": [
    "import pandas as pd"
   ]
  },
  {
   "cell_type": "code",
   "execution_count": 2,
   "metadata": {},
   "outputs": [],
   "source": [
    "# Replace the ID fields with the descriptions\n",
    "souvenir = pd.read_csv(R'souvenir\\souvenir.csv').rename(columns={'Name':'Souvenir_Name'})\n",
    "category = pd.read_csv(R'souvenir\\category.csv').rename(columns={'Name':'Category_Name'})\n",
    "country = pd.read_csv(R'souvenir\\country.csv').rename(columns={'name':'Country_Name'})\n",
    "location = pd.read_csv(R'souvenir\\location.csv').rename(columns={'PlaceName':'Location_Name'})\n",
    "owner = pd.read_csv(R'souvenir\\owner.csv').rename(columns={'Name':'Owner_Name'})\n",
    "region = pd.read_csv(R'souvenir\\region.csv').rename(columns={'Name':'Region_Name'})\n",
    "city = pd.read_csv(R'souvenir\\city.csv').rename(columns={'Name':'City_Name'})\n",
    "\n",
    "list = ['souvenir','category','country','location','owner','region','city']\n"
   ]
  },
  {
   "cell_type": "code",
   "execution_count": 3,
   "metadata": {},
   "outputs": [
    {
     "name": "stdout",
     "output_type": "stream",
     "text": [
      "<class 'pandas.core.frame.DataFrame'>\n",
      "RangeIndex: 147 entries, 0 to 146\n",
      "Data columns (total 10 columns):\n",
      " #   Column           Non-Null Count  Dtype  \n",
      "---  ------           --------------  -----  \n",
      " 0   ItemID           147 non-null    int64  \n",
      " 1   LocationID       31 non-null     float64\n",
      " 2   ItemDescription  109 non-null    object \n",
      " 3   DateObtained     147 non-null    object \n",
      " 4   Price            147 non-null    float64\n",
      " 5   Weight           109 non-null    float64\n",
      " 6   OwnerID          147 non-null    int64  \n",
      " 7   CategoryID       147 non-null    int64  \n",
      " 8   CityID           125 non-null    float64\n",
      " 9   Souvenir_Name    147 non-null    object \n",
      "dtypes: float64(4), int64(3), object(3)\n",
      "memory usage: 11.6+ KB\n",
      "None\n",
      "<class 'pandas.core.frame.DataFrame'>\n",
      "RangeIndex: 12 entries, 0 to 11\n",
      "Data columns (total 2 columns):\n",
      " #   Column         Non-Null Count  Dtype \n",
      "---  ------         --------------  ----- \n",
      " 0   CategoryID     12 non-null     int64 \n",
      " 1   Category_Name  12 non-null     object\n",
      "dtypes: int64(1), object(1)\n",
      "memory usage: 320.0+ bytes\n",
      "None\n",
      "<class 'pandas.core.frame.DataFrame'>\n",
      "RangeIndex: 42 entries, 0 to 41\n",
      "Data columns (total 2 columns):\n",
      " #   Column        Non-Null Count  Dtype \n",
      "---  ------        --------------  ----- \n",
      " 0   CountryID     42 non-null     int64 \n",
      " 1   Country_Name  42 non-null     object\n",
      "dtypes: int64(1), object(1)\n",
      "memory usage: 800.0+ bytes\n",
      "None\n",
      "<class 'pandas.core.frame.DataFrame'>\n",
      "RangeIndex: 22 entries, 0 to 21\n",
      "Data columns (total 4 columns):\n",
      " #   Column         Non-Null Count  Dtype  \n",
      "---  ------         --------------  -----  \n",
      " 0   LocationID     22 non-null     int64  \n",
      " 1   Location_Name  22 non-null     object \n",
      " 2   Latitude       14 non-null     float64\n",
      " 3   Longitude      14 non-null     float64\n",
      "dtypes: float64(2), int64(1), object(1)\n",
      "memory usage: 832.0+ bytes\n",
      "None\n",
      "<class 'pandas.core.frame.DataFrame'>\n",
      "RangeIndex: 5 entries, 0 to 4\n",
      "Data columns (total 2 columns):\n",
      " #   Column      Non-Null Count  Dtype \n",
      "---  ------      --------------  ----- \n",
      " 0   OwnerID     5 non-null      int64 \n",
      " 1   Owner_Name  5 non-null      object\n",
      "dtypes: int64(1), object(1)\n",
      "memory usage: 208.0+ bytes\n",
      "None\n",
      "<class 'pandas.core.frame.DataFrame'>\n",
      "RangeIndex: 83 entries, 0 to 82\n",
      "Data columns (total 3 columns):\n",
      " #   Column       Non-Null Count  Dtype \n",
      "---  ------       --------------  ----- \n",
      " 0   RegionID     83 non-null     int64 \n",
      " 1   Region_Name  83 non-null     object\n",
      " 2   CountryID    83 non-null     int64 \n",
      "dtypes: int64(2), object(1)\n",
      "memory usage: 2.1+ KB\n",
      "None\n",
      "<class 'pandas.core.frame.DataFrame'>\n",
      "RangeIndex: 89 entries, 0 to 88\n",
      "Data columns (total 3 columns):\n",
      " #   Column     Non-Null Count  Dtype \n",
      "---  ------     --------------  ----- \n",
      " 0   CityID     89 non-null     int64 \n",
      " 1   City_Name  89 non-null     object\n",
      " 2   RegionID   89 non-null     int64 \n",
      "dtypes: int64(2), object(1)\n",
      "memory usage: 2.2+ KB\n",
      "None\n"
     ]
    }
   ],
   "source": [
    "#checking stuff\n",
    "list = [souvenir,category,country,location,owner,region,city]\n",
    "\n",
    "for line in list:\n",
    "    print(line.info())"
   ]
  },
  {
   "cell_type": "code",
   "execution_count": 4,
   "metadata": {},
   "outputs": [],
   "source": [
    "# Save the new file to souvenirs.JSON\n",
    "\n",
    "list = [souvenir,category,country,location,owner,region,city]\n",
    "city_location = region.merge(country,how='inner',on='CountryID').merge(city,how='inner',on='RegionID')\n",
    "complete_souvenir = souvenir.merge(category,how='left',on='CategoryID').merge(location,how='left',on='LocationID')\\\n",
    "    .merge(owner,how='left',on='OwnerID').merge(city_location,how='left',on='CityID')\n",
    "complete_souvenir.to_json('complete_souvenir.json')"
   ]
  },
  {
   "cell_type": "code",
   "execution_count": 5,
   "metadata": {},
   "outputs": [],
   "source": [
    "# Create separate CSV files for each owner's set of souvenirs.\n",
    "\n",
    "owner_list = complete_souvenir.Owner_Name.unique()\n",
    "\n",
    "for owner in owner_list:\n",
    "    file_name = 'owner\\\\' + str(owner) +'.csv'\n",
    "    complete_souvenir.to_csv(file_name)"
   ]
  }
 ],
 "metadata": {
  "interpreter": {
   "hash": "a25105b9da4e5c3c2f11f582b453fbebfd8480a96a3dfdf9e9e9e9c45b29cb41"
  },
  "kernelspec": {
   "display_name": "Python 3.9.7 ('base')",
   "language": "python",
   "name": "python3"
  },
  "language_info": {
   "codemirror_mode": {
    "name": "ipython",
    "version": 3
   },
   "file_extension": ".py",
   "mimetype": "text/x-python",
   "name": "python",
   "nbconvert_exporter": "python",
   "pygments_lexer": "ipython3",
   "version": "3.9.7"
  },
  "orig_nbformat": 4
 },
 "nbformat": 4,
 "nbformat_minor": 2
}
