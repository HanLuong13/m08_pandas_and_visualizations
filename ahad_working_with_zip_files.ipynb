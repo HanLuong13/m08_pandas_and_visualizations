{
 "cells": [
  {
   "cell_type": "code",
   "execution_count": 1,
   "metadata": {},
   "outputs": [
    {
     "data": {
      "text/html": [
       "<div>\n",
       "<style scoped>\n",
       "    .dataframe tbody tr th:only-of-type {\n",
       "        vertical-align: middle;\n",
       "    }\n",
       "\n",
       "    .dataframe tbody tr th {\n",
       "        vertical-align: top;\n",
       "    }\n",
       "\n",
       "    .dataframe thead th {\n",
       "        text-align: right;\n",
       "    }\n",
       "</style>\n",
       "<table border=\"1\" class=\"dataframe\">\n",
       "  <thead>\n",
       "    <tr style=\"text-align: right;\">\n",
       "      <th></th>\n",
       "      <th>CategoryID</th>\n",
       "      <th>Name</th>\n",
       "    </tr>\n",
       "  </thead>\n",
       "  <tbody>\n",
       "    <tr>\n",
       "      <th>0</th>\n",
       "      <td>1</td>\n",
       "      <td>Art</td>\n",
       "    </tr>\n",
       "    <tr>\n",
       "      <th>1</th>\n",
       "      <td>2</td>\n",
       "      <td>Artifact</td>\n",
       "    </tr>\n",
       "    <tr>\n",
       "      <th>2</th>\n",
       "      <td>3</td>\n",
       "      <td>Book</td>\n",
       "    </tr>\n",
       "    <tr>\n",
       "      <th>3</th>\n",
       "      <td>4</td>\n",
       "      <td>Clothing</td>\n",
       "    </tr>\n",
       "    <tr>\n",
       "      <th>4</th>\n",
       "      <td>5</td>\n",
       "      <td>Food</td>\n",
       "    </tr>\n",
       "    <tr>\n",
       "      <th>5</th>\n",
       "      <td>6</td>\n",
       "      <td>Geological</td>\n",
       "    </tr>\n",
       "    <tr>\n",
       "      <th>6</th>\n",
       "      <td>7</td>\n",
       "      <td>Kitchenware</td>\n",
       "    </tr>\n",
       "    <tr>\n",
       "      <th>7</th>\n",
       "      <td>8</td>\n",
       "      <td>Miscellaneous</td>\n",
       "    </tr>\n",
       "    <tr>\n",
       "      <th>8</th>\n",
       "      <td>9</td>\n",
       "      <td>Postcard</td>\n",
       "    </tr>\n",
       "    <tr>\n",
       "      <th>9</th>\n",
       "      <td>10</td>\n",
       "      <td>Technology</td>\n",
       "    </tr>\n",
       "    <tr>\n",
       "      <th>10</th>\n",
       "      <td>11</td>\n",
       "      <td>Tool</td>\n",
       "    </tr>\n",
       "    <tr>\n",
       "      <th>11</th>\n",
       "      <td>12</td>\n",
       "      <td>Toy</td>\n",
       "    </tr>\n",
       "  </tbody>\n",
       "</table>\n",
       "</div>"
      ],
      "text/plain": [
       "    CategoryID           Name\n",
       "0            1            Art\n",
       "1            2       Artifact\n",
       "2            3           Book\n",
       "3            4       Clothing\n",
       "4            5           Food\n",
       "5            6     Geological\n",
       "6            7    Kitchenware\n",
       "7            8  Miscellaneous\n",
       "8            9       Postcard\n",
       "9           10     Technology\n",
       "10          11           Tool\n",
       "11          12            Toy"
      ]
     },
     "execution_count": 1,
     "metadata": {},
     "output_type": "execute_result"
    }
   ],
   "source": [
    "import pandas as pd\n",
    "from zipfile import ZipFile\n",
    "\n",
    "# Make sure souvenir.zip is in your current working directory\n",
    "\n",
    "zip_folder = ZipFile('souvenir.zip')  # Creates a ZipFile object\n",
    "\n",
    "# To open a csv file in the zip file as a dataframe:\n",
    "# This is really only helpful if the zip file only contains one file\n",
    "\n",
    "dataframe = pd.read_csv(zip_folder.open('category.csv'))\n",
    "dataframe"
   ]
  },
  {
   "cell_type": "markdown",
   "metadata": {},
   "source": [
    "* The above method isn't very efficient for zip folders with lots of files, so what we can instead do is create a dictionary with all of the filenames\n",
    "\n",
    "* Key will be file name, i.e. 'category.csv' and value will be Pandas dataframe"
   ]
  },
  {
   "cell_type": "code",
   "execution_count": 2,
   "metadata": {},
   "outputs": [
    {
     "data": {
      "text/plain": [
       "[<ZipInfo filename='category.csv' compress_type=deflate external_attr=0x20 file_size=152 compress_size=130>,\n",
       " <ZipInfo filename='city.csv' compress_type=deflate external_attr=0x20 file_size=1451 compress_size=920>,\n",
       " <ZipInfo filename='country.csv' compress_type=deflate external_attr=0x20 file_size=519 compress_size=350>,\n",
       " <ZipInfo filename='location.csv' compress_type=deflate external_attr=0x20 file_size=934 compress_size=570>,\n",
       " <ZipInfo filename='owner.csv' compress_type=deflate external_attr=0x20 file_size=67 compress_size=48>,\n",
       " <ZipInfo filename='region.csv' compress_type=deflate external_attr=0x20 file_size=1471 compress_size=896>,\n",
       " <ZipInfo filename='souvenir.csv' compress_type=deflate external_attr=0x20 file_size=12651 compress_size=6153>]"
      ]
     },
     "execution_count": 2,
     "metadata": {},
     "output_type": "execute_result"
    }
   ],
   "source": [
    "# Create empty dictionary\n",
    "dataframes_dict = {}\n",
    "\n",
    "# You can't iterate over a ZipFile object but you CAN use a loop on the filenames in its infolist()\n",
    "# The infolist() contains metadata for each file in the zip folder\n",
    "\n",
    "zip_folder.infolist() "
   ]
  },
  {
   "cell_type": "code",
   "execution_count": 3,
   "metadata": {},
   "outputs": [
    {
     "data": {
      "text/plain": [
       "'category.csv'"
      ]
     },
     "execution_count": 3,
     "metadata": {},
     "output_type": "execute_result"
    }
   ],
   "source": [
    "# We are only interested in the filename\n",
    "# Remember it's a list!\n",
    "# To get filename for first file:\n",
    "\n",
    "zip_folder.infolist()[0].filename"
   ]
  },
  {
   "cell_type": "code",
   "execution_count": 6,
   "metadata": {},
   "outputs": [
    {
     "data": {
      "text/html": [
       "<div>\n",
       "<style scoped>\n",
       "    .dataframe tbody tr th:only-of-type {\n",
       "        vertical-align: middle;\n",
       "    }\n",
       "\n",
       "    .dataframe tbody tr th {\n",
       "        vertical-align: top;\n",
       "    }\n",
       "\n",
       "    .dataframe thead th {\n",
       "        text-align: right;\n",
       "    }\n",
       "</style>\n",
       "<table border=\"1\" class=\"dataframe\">\n",
       "  <thead>\n",
       "    <tr style=\"text-align: right;\">\n",
       "      <th></th>\n",
       "      <th>OwnerID</th>\n",
       "      <th>Name</th>\n",
       "    </tr>\n",
       "  </thead>\n",
       "  <tbody>\n",
       "    <tr>\n",
       "      <th>0</th>\n",
       "      <td>1</td>\n",
       "      <td>Group 1</td>\n",
       "    </tr>\n",
       "    <tr>\n",
       "      <th>1</th>\n",
       "      <td>2</td>\n",
       "      <td>Group 2</td>\n",
       "    </tr>\n",
       "    <tr>\n",
       "      <th>2</th>\n",
       "      <td>3</td>\n",
       "      <td>Group 3</td>\n",
       "    </tr>\n",
       "    <tr>\n",
       "      <th>3</th>\n",
       "      <td>4</td>\n",
       "      <td>Group 4</td>\n",
       "    </tr>\n",
       "    <tr>\n",
       "      <th>4</th>\n",
       "      <td>5</td>\n",
       "      <td>Group 5</td>\n",
       "    </tr>\n",
       "  </tbody>\n",
       "</table>\n",
       "</div>"
      ],
      "text/plain": [
       "   OwnerID     Name\n",
       "0        1  Group 1\n",
       "1        2  Group 2\n",
       "2        3  Group 3\n",
       "3        4  Group 4\n",
       "4        5  Group 5"
      ]
     },
     "execution_count": 6,
     "metadata": {},
     "output_type": "execute_result"
    }
   ],
   "source": [
    "# Iterate over every file and store it as a dataframe in the dataframes dictionary\n",
    "for file in zip_folder.infolist():\n",
    "    if file.filename.endswith('.csv'):  # Not necessary for this zip file but you can include certain file types and exclude others\n",
    "        csv = file.filename\n",
    "        dataframe = pd.read_csv(zip_folder.open(csv))\n",
    "        dataframes_dict[csv] = dataframe\n",
    "\n",
    "# Type a file name to get a dataframe from the dictionary\n",
    "dataframes_dict['owner.csv']"
   ]
  }
 ],
 "metadata": {
  "interpreter": {
   "hash": "f610223a794a5e00f0ba9c0cf804e6f0adda2cb0aeba7176f1b0ab3674a0abbb"
  },
  "kernelspec": {
   "display_name": "Python 3.9.7 ('base')",
   "language": "python",
   "name": "python3"
  },
  "language_info": {
   "codemirror_mode": {
    "name": "ipython",
    "version": 3
   },
   "file_extension": ".py",
   "mimetype": "text/x-python",
   "name": "python",
   "nbconvert_exporter": "python",
   "pygments_lexer": "ipython3",
   "version": "3.9.7"
  },
  "orig_nbformat": 4
 },
 "nbformat": 4,
 "nbformat_minor": 2
}
